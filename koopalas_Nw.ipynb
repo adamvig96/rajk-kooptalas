{
 "cells": [
  {
   "cell_type": "code",
   "execution_count": 1,
   "metadata": {},
   "outputs": [],
   "source": [
    "import json\n",
    "import requests\n",
    "import pandas as pd\n",
    "import networkx as nx\n",
    "import pyvis\n",
    "\n",
    "from pyvis.network import Network"
   ]
  },
  {
   "cell_type": "markdown",
   "metadata": {},
   "source": [
    "# háló"
   ]
  },
  {
   "cell_type": "code",
   "execution_count": 2,
   "metadata": {},
   "outputs": [],
   "source": [
    "df = pd.read_csv(\"kooptálás.csv\")"
   ]
  },
  {
   "cell_type": "code",
   "execution_count": 3,
   "metadata": {},
   "outputs": [],
   "source": [
    "df[\"n\"] = 1\n",
    "\n",
    "df = df.groupby([\"ki nyomat\", \"kit\"]).count()[[\"ellen\", \"n\"]].reset_index()\n",
    "\n",
    "df[\"szín\"] = df[\"ellen\"].map({0: \"blue\", 1: \"red\"})"
   ]
  },
  {
   "cell_type": "code",
   "execution_count": 4,
   "metadata": {
    "scrolled": true
   },
   "outputs": [],
   "source": [
    "def koop_net(df, height=\"800px\", width=\"100%\", name=\"team\"):\n",
    "\n",
    "    pass_net = Network(\n",
    "        height=height,\n",
    "        width=width,\n",
    "        bgcolor=\"FFFFFF\",\n",
    "        font_color=\"black\",\n",
    "        directed=True,\n",
    "        notebook=False,\n",
    "    )\n",
    "\n",
    "    pass_net.barnes_hut()\n",
    "\n",
    "    sources = df[\"ki nyomat\"]\n",
    "    targets = df[\"kit\"]\n",
    "    weights = df[\"n\"]\n",
    "    color = df[\"szín\"]\n",
    "\n",
    "    edge_data = zip(sources, targets, weights, color)\n",
    "    for e in edge_data:\n",
    "        src = str(e[0])\n",
    "        dst = str(e[1])\n",
    "        w = e[2]\n",
    "        c = e[3]\n",
    "        pass_net.add_node(src, src, title=src)\n",
    "        pass_net.add_node(dst, dst, title=dst)\n",
    "        pass_net.add_edge(src, dst, value=w, color=c)\n",
    "        neighbor_map = pass_net.get_adj_list()\n",
    "\n",
    "    # for node in pass_net.nodes:\n",
    "    # node[\"title\"] += info_dic[node[\"title\"]]\n",
    "    # node[\"value\"] = len(neighbor_map[node[\"id\"]])\n",
    "\n",
    "    pass_net.set_options(\n",
    "        \"\"\"\n",
    "    var options = {\n",
    "      \"nodes\": {\n",
    "        \"borderWidth\": 2,\n",
    "        \"color\": {\n",
    "          \"highlight\": {\n",
    "            \"background\": \"rgba(217,255,50,1)\"\n",
    "          }\n",
    "        },\n",
    "        \"font\": {\n",
    "          \"size\": 50,\n",
    "          \"face\": \"tahoma\"\n",
    "        }\n",
    "      },\n",
    "      \"edges\": {\n",
    "        \"color\": {\n",
    "          \"inherit\": true\n",
    "        },\n",
    "        \"smooth\": false\n",
    "      },\n",
    "      \"physics\": {\n",
    "        \"barnesHut\": {\n",
    "          \"gravitationalConstant\": -80000,\n",
    "          \"springLength\": 250,\n",
    "          \"springConstant\": 0.001\n",
    "        },\n",
    "        \"minVelocity\": 0.75\n",
    "      }\n",
    "    }\n",
    "    \"\"\"\n",
    "    )\n",
    "\n",
    "    pass_net.show(name + \".html\")"
   ]
  },
  {
   "cell_type": "code",
   "execution_count": 5,
   "metadata": {},
   "outputs": [],
   "source": [
    "koop_net(df, height=\"600px\", name=\"index\")"
   ]
  },
  {
   "cell_type": "code",
   "execution_count": null,
   "metadata": {},
   "outputs": [],
   "source": []
  }
 ],
 "metadata": {
  "kernelspec": {
   "display_name": "Python 3",
   "language": "python",
   "name": "python3"
  },
  "language_info": {
   "codemirror_mode": {
    "name": "ipython",
    "version": 3
   },
   "file_extension": ".py",
   "mimetype": "text/x-python",
   "name": "python",
   "nbconvert_exporter": "python",
   "pygments_lexer": "ipython3",
   "version": "3.8.6"
  }
 },
 "nbformat": 4,
 "nbformat_minor": 4
}
