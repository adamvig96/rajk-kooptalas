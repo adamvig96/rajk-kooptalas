{
 "cells": [
  {
   "cell_type": "code",
   "execution_count": 1,
   "metadata": {},
   "outputs": [],
   "source": [
    "import json\n",
    "import requests\n",
    "import pandas as pd\n",
    "import networkx as nx\n",
    "import pyvis\n",
    "\n",
    "from pyvis.network import Network"
   ]
  },
  {
   "cell_type": "markdown",
   "metadata": {},
   "source": [
    "# háló"
   ]
  },
  {
   "cell_type": "code",
   "execution_count": 2,
   "metadata": {},
   "outputs": [],
   "source": [
    "df = pd.read_csv(\"kooptálás.csv\")"
   ]
  },
  {
   "cell_type": "code",
   "execution_count": 3,
   "metadata": {},
   "outputs": [],
   "source": [
    "df[\"n\"] = 1\n",
    "\n",
    "df = df.groupby([\"ki nyomat\", \"kit\"]).count()[[\"ellen\", \"n\"]].reset_index()\n",
    "\n",
    "df[\"szín\"] = df[\"ellen\"].map({0: \"blue\", 1: \"red\"})"
   ]
  },
  {
   "cell_type": "code",
   "execution_count": 15,
   "metadata": {
    "scrolled": true
   },
   "outputs": [],
   "source": [
    "def koop_net(df, height=\"800px\", width=\"100%\", name=\"team\"):\n",
    "\n",
    "    pass_net = Network(\n",
    "        height=height,\n",
    "        width=width,\n",
    "        bgcolor=\"FFFFFF\",\n",
    "        font_color=\"black\",\n",
    "        directed=True,\n",
    "        notebook=False,\n",
    "    )\n",
    "\n",
    "    pass_net.barnes_hut()\n",
    "\n",
    "    sources = df[\"ki nyomat\"]\n",
    "    targets = df[\"kit\"]\n",
    "    weights = df[\"n\"]\n",
    "    color = df[\"szín\"]\n",
    "\n",
    "    edge_data = zip(sources, targets, weights, color)\n",
    "    for e in edge_data:\n",
    "        src = str(e[0])\n",
    "        dst = str(e[1])\n",
    "        w = e[2]\n",
    "        c = e[3]\n",
    "        pass_net.add_node(src, src, title=src)\n",
    "        pass_net.add_node(dst, dst, title=dst)\n",
    "        pass_net.add_edge(src, dst, value=w, color=c)\n",
    "        neighbor_map = pass_net.get_adj_list()\n",
    "\n",
    "    # for node in pass_net.nodes:\n",
    "    # node[\"title\"] += info_dic[node[\"title\"]]\n",
    "    # node[\"value\"] = len(neighbor_map[node[\"id\"]])\n",
    "\n",
    "    pass_net.set_options(\n",
    "        \"\"\"\n",
    "    var options = {\n",
    "      \"nodes\": {\n",
    "        \"borderWidth\": 2,\n",
    "        \"color\": {\n",
    "          \"highlight\": {\n",
    "            \"background\": \"rgba(217,255,50,1)\"\n",
    "          }\n",
    "        },\n",
    "        \"font\": {\n",
    "          \"size\": 50,\n",
    "          \"face\": \"tahoma\"\n",
    "        }\n",
    "      },\n",
    "      \"edges\": {\n",
    "        \"color\": {\n",
    "          \"inherit\": true\n",
    "        },\n",
    "        \"smooth\": false\n",
    "      },\n",
    "      \"physics\": {\n",
    "        \"barnesHut\": {\n",
    "          \"gravitationalConstant\": -80000,\n",
    "          \"springLength\": 250,\n",
    "          \"springConstant\": 0.001\n",
    "        },\n",
    "        \"minVelocity\": 0.75\n",
    "      }\n",
    "    }\n",
    "    \"\"\"\n",
    "    )\n",
    "\n",
    "    pass_net.show(name + \".html\")"
   ]
  },
  {
   "cell_type": "code",
   "execution_count": 16,
   "metadata": {},
   "outputs": [
    {
     "ename": "AssertionError",
     "evalue": "kooptalas.jpg is not a valid html file",
     "output_type": "error",
     "traceback": [
      "\u001b[0;31m---------------------------------------------------------------------------\u001b[0m",
      "\u001b[0;31mAssertionError\u001b[0m                            Traceback (most recent call last)",
      "\u001b[0;32m<ipython-input-16-f586699d6d3d>\u001b[0m in \u001b[0;36m<module>\u001b[0;34m\u001b[0m\n\u001b[0;32m----> 1\u001b[0;31m \u001b[0mkoop_net\u001b[0m\u001b[0;34m(\u001b[0m\u001b[0mdf\u001b[0m\u001b[0;34m,\u001b[0m \u001b[0mheight\u001b[0m\u001b[0;34m=\u001b[0m\u001b[0;34m\"600px\"\u001b[0m\u001b[0;34m,\u001b[0m \u001b[0mname\u001b[0m\u001b[0;34m=\u001b[0m\u001b[0;34m\"kooptalas\"\u001b[0m\u001b[0;34m)\u001b[0m\u001b[0;34m\u001b[0m\u001b[0;34m\u001b[0m\u001b[0m\n\u001b[0m",
      "\u001b[0;32m<ipython-input-15-90f16148f007>\u001b[0m in \u001b[0;36mkoop_net\u001b[0;34m(df, height, width, name)\u001b[0m\n\u001b[1;32m     65\u001b[0m     )\n\u001b[1;32m     66\u001b[0m \u001b[0;34m\u001b[0m\u001b[0m\n\u001b[0;32m---> 67\u001b[0;31m     \u001b[0mpass_net\u001b[0m\u001b[0;34m.\u001b[0m\u001b[0mshow\u001b[0m\u001b[0;34m(\u001b[0m\u001b[0mname\u001b[0m \u001b[0;34m+\u001b[0m \u001b[0;34m\".jpg\"\u001b[0m\u001b[0;34m)\u001b[0m\u001b[0;34m\u001b[0m\u001b[0;34m\u001b[0m\u001b[0m\n\u001b[0m",
      "\u001b[0;32m/usr/local/lib/python3.8/site-packages/pyvis/network.py\u001b[0m in \u001b[0;36mshow\u001b[0;34m(self, name)\u001b[0m\n\u001b[1;32m    470\u001b[0m         \u001b[0;34m:\u001b[0m\u001b[0mtype\u001b[0m \u001b[0mname\u001b[0m\u001b[0;34m:\u001b[0m \u001b[0mstr\u001b[0m\u001b[0;34m\u001b[0m\u001b[0;34m\u001b[0m\u001b[0m\n\u001b[1;32m    471\u001b[0m         \"\"\"\n\u001b[0;32m--> 472\u001b[0;31m         \u001b[0mcheck_html\u001b[0m\u001b[0;34m(\u001b[0m\u001b[0mname\u001b[0m\u001b[0;34m)\u001b[0m\u001b[0;34m\u001b[0m\u001b[0;34m\u001b[0m\u001b[0m\n\u001b[0m\u001b[1;32m    473\u001b[0m         \u001b[0;32mif\u001b[0m \u001b[0mself\u001b[0m\u001b[0;34m.\u001b[0m\u001b[0mtemplate\u001b[0m \u001b[0;32mis\u001b[0m \u001b[0;32mnot\u001b[0m \u001b[0;32mNone\u001b[0m\u001b[0;34m:\u001b[0m\u001b[0;34m\u001b[0m\u001b[0;34m\u001b[0m\u001b[0m\n\u001b[1;32m    474\u001b[0m             \u001b[0;32mreturn\u001b[0m \u001b[0mself\u001b[0m\u001b[0;34m.\u001b[0m\u001b[0mwrite_html\u001b[0m\u001b[0;34m(\u001b[0m\u001b[0mname\u001b[0m\u001b[0;34m,\u001b[0m \u001b[0mnotebook\u001b[0m\u001b[0;34m=\u001b[0m\u001b[0;32mTrue\u001b[0m\u001b[0;34m)\u001b[0m\u001b[0;34m\u001b[0m\u001b[0;34m\u001b[0m\u001b[0m\n",
      "\u001b[0;32m/usr/local/lib/python3.8/site-packages/pyvis/utils.py\u001b[0m in \u001b[0;36mcheck_html\u001b[0;34m(name)\u001b[0m\n\u001b[1;32m     10\u001b[0m     \"\"\"\n\u001b[1;32m     11\u001b[0m     \u001b[0;32massert\u001b[0m \u001b[0mlen\u001b[0m\u001b[0;34m(\u001b[0m\u001b[0mname\u001b[0m\u001b[0;34m.\u001b[0m\u001b[0msplit\u001b[0m\u001b[0;34m(\u001b[0m\u001b[0;34m\".\"\u001b[0m\u001b[0;34m)\u001b[0m\u001b[0;34m)\u001b[0m \u001b[0;34m>=\u001b[0m \u001b[0;36m2\u001b[0m\u001b[0;34m,\u001b[0m \u001b[0;34m\"invalid file type for %s\"\u001b[0m \u001b[0;34m%\u001b[0m \u001b[0mname\u001b[0m\u001b[0;34m\u001b[0m\u001b[0;34m\u001b[0m\u001b[0m\n\u001b[0;32m---> 12\u001b[0;31m     assert name.split(\n\u001b[0m\u001b[1;32m     13\u001b[0m         \".\")[-1] == \"html\", \"%s is not a valid html file\" % name\n",
      "\u001b[0;31mAssertionError\u001b[0m: kooptalas.jpg is not a valid html file"
     ]
    }
   ],
   "source": [
    "koop_net(df, height=\"600px\", name=\"kooptalas\")"
   ]
  },
  {
   "cell_type": "code",
   "execution_count": null,
   "metadata": {},
   "outputs": [],
   "source": []
  }
 ],
 "metadata": {
  "kernelspec": {
   "display_name": "Python 3",
   "language": "python",
   "name": "python3"
  },
  "language_info": {
   "codemirror_mode": {
    "name": "ipython",
    "version": 3
   },
   "file_extension": ".py",
   "mimetype": "text/x-python",
   "name": "python",
   "nbconvert_exporter": "python",
   "pygments_lexer": "ipython3",
   "version": "3.8.6"
  }
 },
 "nbformat": 4,
 "nbformat_minor": 4
}
